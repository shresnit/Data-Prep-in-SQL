{
 "cells": [
  {
   "cell_type": "markdown",
   "id": "88cb3c0a",
   "metadata": {},
   "source": [
    "### Preppin' Data Challenge 2023 Week 3 - Targets for DSB\n",
    "<br>\n",
    "Input the data"
   ]
  },
  {
   "cell_type": "code",
   "execution_count": 144,
   "id": "acc6370b",
   "metadata": {},
   "outputs": [],
   "source": [
    "import pandas as pd\n",
    "import numpy as np\n",
    "\n",
    "df1 = pd.read_csv('PD2023_WK01.csv')\n",
    "df2 = pd.read_csv('PD2023_WK03_TARGETS.csv')"
   ]
  },
  {
   "cell_type": "markdown",
   "id": "076754f9",
   "metadata": {},
   "source": [
    "<br>\n",
    "For the transactions file:\n",
    "    \n",
    "- Filter the transactions to just look at DSB \n",
    "    - These will be transactions that contain DSB in the Transaction Code field\n",
    "- Rename the values in the Online or In-person field, Online of the 1 values and In-Person for the 2 values\n",
    "- Change the date to be the quarter \n",
    "- Sum the transaction values for each quarter and for each Type of Transaction (Online or In-Person)"
   ]
  },
  {
   "cell_type": "code",
   "execution_count": 145,
   "id": "1336440a",
   "metadata": {},
   "outputs": [],
   "source": [
    "# Filtering to transactions 'DSB'\n",
    "\n",
    "df1 = df1[df1['Transaction Code'].str.contains('DSB')]"
   ]
  },
  {
   "cell_type": "code",
   "execution_count": 146,
   "id": "6339c8da",
   "metadata": {},
   "outputs": [],
   "source": [
    "# Renaming Online or In-person field\n",
    "df1['Online or In-Person'] = np.where(df1['Online or In-Person'] == 1, 'Online', 'In-Person')"
   ]
  },
  {
   "cell_type": "code",
   "execution_count": 147,
   "id": "608d4cea",
   "metadata": {},
   "outputs": [],
   "source": [
    "#Changing date to quarter\n",
    "df1['Transaction Date'] = pd.to_datetime(df1['Transaction Date'], format = '%d/%m/%Y %H:%M:%S')\n",
    "df1['Quarter'] = df1['Transaction Date'].dt.quarter"
   ]
  },
  {
   "cell_type": "code",
   "execution_count": 148,
   "id": "4df89d85",
   "metadata": {},
   "outputs": [],
   "source": [
    "#Summing Transaction value for each quarter and 'Online or In-Person'\n",
    "\n",
    "df1 = df1.groupby(['Quarter', 'Online or In-Person'], as_index=False)['Value'].sum()\n"
   ]
  },
  {
   "cell_type": "markdown",
   "id": "340c69d0",
   "metadata": {},
   "source": [
    "<br>\n",
    "For the targets file:\n",
    "- Pivot the quarterly targets so we have a row for each Type of Transaction and each Quarter\n",
    " - Rename the fields\n",
    "- Remove the 'Q' from the quarter field and make the data type numeric"
   ]
  },
  {
   "cell_type": "code",
   "execution_count": 149,
   "id": "f26daa47",
   "metadata": {},
   "outputs": [],
   "source": [
    "# Unpivotting the dataframe using pd.melt()\n",
    "df2 = pd.melt(df2, id_vars='Online or In-Person', var_name='Quarter', value_name = 'Quarterly Target')"
   ]
  },
  {
   "cell_type": "code",
   "execution_count": 150,
   "id": "505060f9",
   "metadata": {},
   "outputs": [],
   "source": [
    "#Removing 'Q' from the Quarter field\n",
    "df2['Quarter'] = df2['Quarter'].str.replace('Q', '')"
   ]
  },
  {
   "cell_type": "code",
   "execution_count": 151,
   "id": "24f103b5",
   "metadata": {},
   "outputs": [],
   "source": [
    "#Changing the datatype\n",
    "df2['Quarter'] = df2['Quarter'].astype(int)"
   ]
  },
  {
   "cell_type": "markdown",
   "id": "ace17ec1",
   "metadata": {},
   "source": [
    "<br>\n",
    "Join the two datasets together \n",
    "- You may need more than one join clause!\n",
    "- Remove unnecessary fields"
   ]
  },
  {
   "cell_type": "code",
   "execution_count": 152,
   "id": "25b9ad73",
   "metadata": {},
   "outputs": [],
   "source": [
    "#Inner join on 'Online or In-Person', 'Quarter'\n",
    "df = pd.merge(df1, df2, on=['Online or In-Person', 'Quarter'], how='inner')"
   ]
  },
  {
   "cell_type": "markdown",
   "id": "020ed0e7",
   "metadata": {},
   "source": [
    "<br>\n",
    "Calculate the Variance to Target for each row"
   ]
  },
  {
   "cell_type": "code",
   "execution_count": 153,
   "id": "1f31d065",
   "metadata": {},
   "outputs": [],
   "source": [
    "df['Variance'] = df['Value'] - df['Quarterly Target']"
   ]
  },
  {
   "cell_type": "markdown",
   "id": "a72451cd",
   "metadata": {},
   "source": [
    "<br>\n",
    "Output the Data"
   ]
  },
  {
   "cell_type": "code",
   "execution_count": 154,
   "id": "cb76909f",
   "metadata": {},
   "outputs": [],
   "source": [
    "df.to_csv('PD2023W3_Output.csv', index=False)"
   ]
  },
  {
   "cell_type": "code",
   "execution_count": 155,
   "id": "82719bc6",
   "metadata": {},
   "outputs": [
    {
     "data": {
      "text/html": [
       "<div>\n",
       "<style scoped>\n",
       "    .dataframe tbody tr th:only-of-type {\n",
       "        vertical-align: middle;\n",
       "    }\n",
       "\n",
       "    .dataframe tbody tr th {\n",
       "        vertical-align: top;\n",
       "    }\n",
       "\n",
       "    .dataframe thead th {\n",
       "        text-align: right;\n",
       "    }\n",
       "</style>\n",
       "<table border=\"1\" class=\"dataframe\">\n",
       "  <thead>\n",
       "    <tr style=\"text-align: right;\">\n",
       "      <th></th>\n",
       "      <th>Quarter</th>\n",
       "      <th>Online or In-Person</th>\n",
       "      <th>Value</th>\n",
       "      <th>Quarterly Target</th>\n",
       "      <th>Variance</th>\n",
       "    </tr>\n",
       "  </thead>\n",
       "  <tbody>\n",
       "    <tr>\n",
       "      <th>0</th>\n",
       "      <td>1</td>\n",
       "      <td>In-Person</td>\n",
       "      <td>77576</td>\n",
       "      <td>75000</td>\n",
       "      <td>2576</td>\n",
       "    </tr>\n",
       "    <tr>\n",
       "      <th>1</th>\n",
       "      <td>1</td>\n",
       "      <td>Online</td>\n",
       "      <td>74562</td>\n",
       "      <td>72500</td>\n",
       "      <td>2062</td>\n",
       "    </tr>\n",
       "    <tr>\n",
       "      <th>2</th>\n",
       "      <td>2</td>\n",
       "      <td>In-Person</td>\n",
       "      <td>70634</td>\n",
       "      <td>70000</td>\n",
       "      <td>634</td>\n",
       "    </tr>\n",
       "    <tr>\n",
       "      <th>3</th>\n",
       "      <td>2</td>\n",
       "      <td>Online</td>\n",
       "      <td>69325</td>\n",
       "      <td>70000</td>\n",
       "      <td>-675</td>\n",
       "    </tr>\n",
       "    <tr>\n",
       "      <th>4</th>\n",
       "      <td>3</td>\n",
       "      <td>In-Person</td>\n",
       "      <td>74189</td>\n",
       "      <td>70000</td>\n",
       "      <td>4189</td>\n",
       "    </tr>\n",
       "    <tr>\n",
       "      <th>5</th>\n",
       "      <td>3</td>\n",
       "      <td>Online</td>\n",
       "      <td>59072</td>\n",
       "      <td>60000</td>\n",
       "      <td>-928</td>\n",
       "    </tr>\n",
       "    <tr>\n",
       "      <th>6</th>\n",
       "      <td>4</td>\n",
       "      <td>In-Person</td>\n",
       "      <td>43223</td>\n",
       "      <td>60000</td>\n",
       "      <td>-16777</td>\n",
       "    </tr>\n",
       "    <tr>\n",
       "      <th>7</th>\n",
       "      <td>4</td>\n",
       "      <td>Online</td>\n",
       "      <td>61908</td>\n",
       "      <td>60000</td>\n",
       "      <td>1908</td>\n",
       "    </tr>\n",
       "  </tbody>\n",
       "</table>\n",
       "</div>"
      ],
      "text/plain": [
       "   Quarter Online or In-Person  Value  Quarterly Target  Variance\n",
       "0        1           In-Person  77576             75000      2576\n",
       "1        1              Online  74562             72500      2062\n",
       "2        2           In-Person  70634             70000       634\n",
       "3        2              Online  69325             70000      -675\n",
       "4        3           In-Person  74189             70000      4189\n",
       "5        3              Online  59072             60000      -928\n",
       "6        4           In-Person  43223             60000    -16777\n",
       "7        4              Online  61908             60000      1908"
      ]
     },
     "execution_count": 155,
     "metadata": {},
     "output_type": "execute_result"
    }
   ],
   "source": [
    "#verifying the output\n",
    "Output = pd.read_csv('PD2023W3_Output.csv')\n",
    "Output"
   ]
  },
  {
   "cell_type": "code",
   "execution_count": null,
   "id": "e37e3c9c",
   "metadata": {},
   "outputs": [],
   "source": []
  }
 ],
 "metadata": {
  "kernelspec": {
   "display_name": "Python 3 (ipykernel)",
   "language": "python",
   "name": "python3"
  },
  "language_info": {
   "codemirror_mode": {
    "name": "ipython",
    "version": 3
   },
   "file_extension": ".py",
   "mimetype": "text/x-python",
   "name": "python",
   "nbconvert_exporter": "python",
   "pygments_lexer": "ipython3",
   "version": "3.11.5"
  }
 },
 "nbformat": 4,
 "nbformat_minor": 5
}
