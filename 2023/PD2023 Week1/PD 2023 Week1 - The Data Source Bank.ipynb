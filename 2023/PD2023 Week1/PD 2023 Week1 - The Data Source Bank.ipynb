{
 "cells": [
  {
   "cell_type": "markdown",
   "id": "0129c865",
   "metadata": {},
   "source": [
    "### Prepin' Data Challenge: 2023 Week1 - The Data Source Bank\n",
    "\n",
    "<br>\n",
    "Input the data"
   ]
  },
  {
   "cell_type": "code",
   "execution_count": 94,
   "id": "2534d89a",
   "metadata": {},
   "outputs": [],
   "source": [
    "import pandas as pd\n",
    "import numpy as np\n",
    "\n",
    "df = pd.read_csv('PD2023_WK01.csv')"
   ]
  },
  {
   "cell_type": "markdown",
   "id": "eb5a15a0",
   "metadata": {},
   "source": [
    "<br>\n",
    "Split the Transaction Code to extract the letters at the start of the transaction code. These identify the bank who processes the transaction (help)\n",
    "\n",
    "- Rename the new field with the Bank code 'Bank'."
   ]
  },
  {
   "cell_type": "code",
   "execution_count": 95,
   "id": "41898f8f",
   "metadata": {},
   "outputs": [],
   "source": [
    "df['Bank'] = df['Transaction Code'].str.split(\"-\", expand=True)[0]"
   ]
  },
  {
   "cell_type": "markdown",
   "id": "3a66f284",
   "metadata": {},
   "source": [
    "<br>\n",
    "Rename the values in the Online or In-person field, Online of the 1 values and In-Person for the 2 values. "
   ]
  },
  {
   "cell_type": "code",
   "execution_count": 96,
   "id": "138b2d6d",
   "metadata": {},
   "outputs": [],
   "source": [
    "df['Online or In-Person'] = np.where(df['Online or In-Person'] == 1, 'Online', 'In-Person')"
   ]
  },
  {
   "cell_type": "markdown",
   "id": "17afbc45",
   "metadata": {},
   "source": [
    "<br>\n",
    "Change the date to be the day of the week"
   ]
  },
  {
   "cell_type": "code",
   "execution_count": 97,
   "id": "f8fe3ccc",
   "metadata": {},
   "outputs": [],
   "source": [
    "#Coverting 'Transaction Date' into Date Time Format\n",
    "df['Transaction Date'] = pd.to_datetime(df['Transaction Date'], format = '%d/%m/%Y %H:%M:%S')\n",
    "\n",
    "df['Transaction Date'] = df['Transaction Date'].dt.day_name()"
   ]
  },
  {
   "cell_type": "markdown",
   "id": "de6a87d5",
   "metadata": {},
   "source": [
    "<br>\n",
    "Different levels of detail are required in the outputs. You will need to sum up the values of the transactions in three ways:\n",
    "\n",
    "1. Total Values of Transactions by each bank\n",
    "2. Total Values by Bank, Day of the Week and Type of Transaction (Online or In-Person)\n",
    "3. Total Values by Bank and Customer Code"
   ]
  },
  {
   "cell_type": "code",
   "execution_count": 98,
   "id": "3125f496",
   "metadata": {},
   "outputs": [],
   "source": [
    "# Total Values of Transactions by each bank\n",
    "Tran_By_Bank = df.groupby('Bank').agg({'Bank': min, 'Value' :sum})\n"
   ]
  },
  {
   "cell_type": "code",
   "execution_count": 99,
   "id": "6a361a9c",
   "metadata": {},
   "outputs": [],
   "source": [
    "# Total Values by Bank, Day of the Week and Type of Transaction (Online or In-Person)\n",
    "Total_Bank_Day_Tran = df.groupby(\n",
    "                                ['Bank', 'Online or In-Person','Transaction Date']).agg(\n",
    "                                    {'Bank': min,'Online or In-Person': min , 'Transaction Date':min, 'Value' :sum}\n",
    "                                )"
   ]
  },
  {
   "cell_type": "code",
   "execution_count": 100,
   "id": "3294d5fd",
   "metadata": {
    "scrolled": true
   },
   "outputs": [],
   "source": [
    "# Total Values by Bank and Customer Code: min, \n",
    "Total_Bank_CC = df.groupby(['Bank', 'Customer Code']).agg({'Bank':min, 'Customer Code':min, 'Value' :sum})"
   ]
  },
  {
   "cell_type": "markdown",
   "id": "2258b30e",
   "metadata": {},
   "source": [
    "<br>\n",
    "Output each data file"
   ]
  },
  {
   "cell_type": "code",
   "execution_count": 101,
   "id": "6b3f7f4c",
   "metadata": {},
   "outputs": [],
   "source": [
    "#Output1\n",
    "Tran_By_Bank.to_csv('PD2023W1_Out1.csv', index = False)\n",
    "\n",
    "#Output2\n",
    "Total_Bank_Day_Tran.to_csv('PD2023W1_Out2.csv', index = False)\n",
    "\n",
    "#Output3\n",
    "Total_Bank_CC.to_csv('PD2023W1_Out3.csv', index = False)"
   ]
  },
  {
   "cell_type": "code",
   "execution_count": 70,
   "id": "fd036530",
   "metadata": {},
   "outputs": [],
   "source": [
    "#Verifying the outputs"
   ]
  },
  {
   "cell_type": "code",
   "execution_count": 102,
   "id": "8bff5d22",
   "metadata": {},
   "outputs": [],
   "source": [
    "Output1 = pd.read_csv('PD2023W1_Out1.csv')\n",
    "Output2 = pd.read_csv('PD2023W1_Out2.csv')\n",
    "Output3 = pd.read_csv('PD2023W1_Out3.csv')"
   ]
  },
  {
   "cell_type": "code",
   "execution_count": 103,
   "id": "e0011649",
   "metadata": {},
   "outputs": [
    {
     "data": {
      "text/html": [
       "<div>\n",
       "<style scoped>\n",
       "    .dataframe tbody tr th:only-of-type {\n",
       "        vertical-align: middle;\n",
       "    }\n",
       "\n",
       "    .dataframe tbody tr th {\n",
       "        vertical-align: top;\n",
       "    }\n",
       "\n",
       "    .dataframe thead th {\n",
       "        text-align: right;\n",
       "    }\n",
       "</style>\n",
       "<table border=\"1\" class=\"dataframe\">\n",
       "  <thead>\n",
       "    <tr style=\"text-align: right;\">\n",
       "      <th></th>\n",
       "      <th>Bank</th>\n",
       "      <th>Value</th>\n",
       "    </tr>\n",
       "  </thead>\n",
       "  <tbody>\n",
       "    <tr>\n",
       "      <th>0</th>\n",
       "      <td>DS</td>\n",
       "      <td>653940</td>\n",
       "    </tr>\n",
       "    <tr>\n",
       "      <th>1</th>\n",
       "      <td>DSB</td>\n",
       "      <td>530489</td>\n",
       "    </tr>\n",
       "    <tr>\n",
       "      <th>2</th>\n",
       "      <td>DTB</td>\n",
       "      <td>618238</td>\n",
       "    </tr>\n",
       "  </tbody>\n",
       "</table>\n",
       "</div>"
      ],
      "text/plain": [
       "  Bank   Value\n",
       "0   DS  653940\n",
       "1  DSB  530489\n",
       "2  DTB  618238"
      ]
     },
     "execution_count": 103,
     "metadata": {},
     "output_type": "execute_result"
    }
   ],
   "source": [
    "Output1"
   ]
  },
  {
   "cell_type": "code",
   "execution_count": 104,
   "id": "cc2b0cef",
   "metadata": {},
   "outputs": [
    {
     "data": {
      "text/html": [
       "<div>\n",
       "<style scoped>\n",
       "    .dataframe tbody tr th:only-of-type {\n",
       "        vertical-align: middle;\n",
       "    }\n",
       "\n",
       "    .dataframe tbody tr th {\n",
       "        vertical-align: top;\n",
       "    }\n",
       "\n",
       "    .dataframe thead th {\n",
       "        text-align: right;\n",
       "    }\n",
       "</style>\n",
       "<table border=\"1\" class=\"dataframe\">\n",
       "  <thead>\n",
       "    <tr style=\"text-align: right;\">\n",
       "      <th></th>\n",
       "      <th>Bank</th>\n",
       "      <th>Online or In-Person</th>\n",
       "      <th>Transaction Date</th>\n",
       "      <th>Value</th>\n",
       "    </tr>\n",
       "  </thead>\n",
       "  <tbody>\n",
       "    <tr>\n",
       "      <th>0</th>\n",
       "      <td>DS</td>\n",
       "      <td>In-Person</td>\n",
       "      <td>Friday</td>\n",
       "      <td>58599</td>\n",
       "    </tr>\n",
       "    <tr>\n",
       "      <th>1</th>\n",
       "      <td>DS</td>\n",
       "      <td>In-Person</td>\n",
       "      <td>Monday</td>\n",
       "      <td>42806</td>\n",
       "    </tr>\n",
       "    <tr>\n",
       "      <th>2</th>\n",
       "      <td>DS</td>\n",
       "      <td>In-Person</td>\n",
       "      <td>Saturday</td>\n",
       "      <td>34867</td>\n",
       "    </tr>\n",
       "    <tr>\n",
       "      <th>3</th>\n",
       "      <td>DS</td>\n",
       "      <td>In-Person</td>\n",
       "      <td>Sunday</td>\n",
       "      <td>51301</td>\n",
       "    </tr>\n",
       "    <tr>\n",
       "      <th>4</th>\n",
       "      <td>DS</td>\n",
       "      <td>In-Person</td>\n",
       "      <td>Thursday</td>\n",
       "      <td>75582</td>\n",
       "    </tr>\n",
       "    <tr>\n",
       "      <th>5</th>\n",
       "      <td>DS</td>\n",
       "      <td>In-Person</td>\n",
       "      <td>Tuesday</td>\n",
       "      <td>32607</td>\n",
       "    </tr>\n",
       "    <tr>\n",
       "      <th>6</th>\n",
       "      <td>DS</td>\n",
       "      <td>In-Person</td>\n",
       "      <td>Wednesday</td>\n",
       "      <td>63686</td>\n",
       "    </tr>\n",
       "    <tr>\n",
       "      <th>7</th>\n",
       "      <td>DS</td>\n",
       "      <td>Online</td>\n",
       "      <td>Friday</td>\n",
       "      <td>58731</td>\n",
       "    </tr>\n",
       "    <tr>\n",
       "      <th>8</th>\n",
       "      <td>DS</td>\n",
       "      <td>Online</td>\n",
       "      <td>Monday</td>\n",
       "      <td>33563</td>\n",
       "    </tr>\n",
       "    <tr>\n",
       "      <th>9</th>\n",
       "      <td>DS</td>\n",
       "      <td>Online</td>\n",
       "      <td>Saturday</td>\n",
       "      <td>71357</td>\n",
       "    </tr>\n",
       "  </tbody>\n",
       "</table>\n",
       "</div>"
      ],
      "text/plain": [
       "  Bank Online or In-Person Transaction Date  Value\n",
       "0   DS           In-Person           Friday  58599\n",
       "1   DS           In-Person           Monday  42806\n",
       "2   DS           In-Person         Saturday  34867\n",
       "3   DS           In-Person           Sunday  51301\n",
       "4   DS           In-Person         Thursday  75582\n",
       "5   DS           In-Person          Tuesday  32607\n",
       "6   DS           In-Person        Wednesday  63686\n",
       "7   DS              Online           Friday  58731\n",
       "8   DS              Online           Monday  33563\n",
       "9   DS              Online         Saturday  71357"
      ]
     },
     "execution_count": 104,
     "metadata": {},
     "output_type": "execute_result"
    }
   ],
   "source": [
    "Output2.head(10)"
   ]
  },
  {
   "cell_type": "code",
   "execution_count": 105,
   "id": "317e7c10",
   "metadata": {},
   "outputs": [
    {
     "data": {
      "text/html": [
       "<div>\n",
       "<style scoped>\n",
       "    .dataframe tbody tr th:only-of-type {\n",
       "        vertical-align: middle;\n",
       "    }\n",
       "\n",
       "    .dataframe tbody tr th {\n",
       "        vertical-align: top;\n",
       "    }\n",
       "\n",
       "    .dataframe thead th {\n",
       "        text-align: right;\n",
       "    }\n",
       "</style>\n",
       "<table border=\"1\" class=\"dataframe\">\n",
       "  <thead>\n",
       "    <tr style=\"text-align: right;\">\n",
       "      <th></th>\n",
       "      <th>Bank</th>\n",
       "      <th>Customer Code</th>\n",
       "      <th>Value</th>\n",
       "    </tr>\n",
       "  </thead>\n",
       "  <tbody>\n",
       "    <tr>\n",
       "      <th>0</th>\n",
       "      <td>DS</td>\n",
       "      <td>100000</td>\n",
       "      <td>57909</td>\n",
       "    </tr>\n",
       "    <tr>\n",
       "      <th>1</th>\n",
       "      <td>DS</td>\n",
       "      <td>100001</td>\n",
       "      <td>53063</td>\n",
       "    </tr>\n",
       "    <tr>\n",
       "      <th>2</th>\n",
       "      <td>DS</td>\n",
       "      <td>100002</td>\n",
       "      <td>69803</td>\n",
       "    </tr>\n",
       "    <tr>\n",
       "      <th>3</th>\n",
       "      <td>DS</td>\n",
       "      <td>100003</td>\n",
       "      <td>25482</td>\n",
       "    </tr>\n",
       "    <tr>\n",
       "      <th>4</th>\n",
       "      <td>DS</td>\n",
       "      <td>100004</td>\n",
       "      <td>63315</td>\n",
       "    </tr>\n",
       "    <tr>\n",
       "      <th>5</th>\n",
       "      <td>DS</td>\n",
       "      <td>100005</td>\n",
       "      <td>39668</td>\n",
       "    </tr>\n",
       "    <tr>\n",
       "      <th>6</th>\n",
       "      <td>DS</td>\n",
       "      <td>100006</td>\n",
       "      <td>77636</td>\n",
       "    </tr>\n",
       "    <tr>\n",
       "      <th>7</th>\n",
       "      <td>DS</td>\n",
       "      <td>100007</td>\n",
       "      <td>76190</td>\n",
       "    </tr>\n",
       "    <tr>\n",
       "      <th>8</th>\n",
       "      <td>DS</td>\n",
       "      <td>100008</td>\n",
       "      <td>56400</td>\n",
       "    </tr>\n",
       "    <tr>\n",
       "      <th>9</th>\n",
       "      <td>DS</td>\n",
       "      <td>100009</td>\n",
       "      <td>56581</td>\n",
       "    </tr>\n",
       "  </tbody>\n",
       "</table>\n",
       "</div>"
      ],
      "text/plain": [
       "  Bank  Customer Code  Value\n",
       "0   DS         100000  57909\n",
       "1   DS         100001  53063\n",
       "2   DS         100002  69803\n",
       "3   DS         100003  25482\n",
       "4   DS         100004  63315\n",
       "5   DS         100005  39668\n",
       "6   DS         100006  77636\n",
       "7   DS         100007  76190\n",
       "8   DS         100008  56400\n",
       "9   DS         100009  56581"
      ]
     },
     "execution_count": 105,
     "metadata": {},
     "output_type": "execute_result"
    }
   ],
   "source": [
    "Output3.head(10)"
   ]
  }
 ],
 "metadata": {
  "kernelspec": {
   "display_name": "Python 3 (ipykernel)",
   "language": "python",
   "name": "python3"
  },
  "language_info": {
   "codemirror_mode": {
    "name": "ipython",
    "version": 3
   },
   "file_extension": ".py",
   "mimetype": "text/x-python",
   "name": "python",
   "nbconvert_exporter": "python",
   "pygments_lexer": "ipython3",
   "version": "3.11.5"
  }
 },
 "nbformat": 4,
 "nbformat_minor": 5
}
