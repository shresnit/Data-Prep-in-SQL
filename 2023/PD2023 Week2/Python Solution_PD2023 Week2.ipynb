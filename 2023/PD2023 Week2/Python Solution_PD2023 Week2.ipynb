{
 "cells": [
  {
   "cell_type": "markdown",
   "id": "e61b3eb2",
   "metadata": {},
   "source": [
    "### Preppin' Data Challenge 2023 Week 2 - International Bank Account Numbers\n",
    "<br>\n",
    "Input the data"
   ]
  },
  {
   "cell_type": "code",
   "execution_count": 16,
   "id": "2f78170c",
   "metadata": {},
   "outputs": [],
   "source": [
    "import pandas as pd\n",
    "import numpy as np\n",
    "\n",
    "df1 = pd.read_csv('PD2023_WK02_TRANSACTIONS.csv')\n",
    "df2 = pd.read_csv('PD2023_WK02_SWIFT_CODES.csv')"
   ]
  },
  {
   "cell_type": "markdown",
   "id": "58ff43cf",
   "metadata": {},
   "source": [
    "<br>\n",
    "In the Transactions table, there is a Sort Code field which contains dashes.\n",
    "We need to remove these so just have a 6 digit string"
   ]
  },
  {
   "cell_type": "code",
   "execution_count": 17,
   "id": "27dba819",
   "metadata": {},
   "outputs": [],
   "source": [
    "df1['Sort Code'] = df1['Sort Code'].str.replace('-', '')           "
   ]
  },
  {
   "cell_type": "markdown",
   "id": "dce5bc14",
   "metadata": {},
   "source": [
    "<br>\n",
    "Use the SWIFT Bank Code lookup table to bring in additional information about the SWIFT code and \n",
    "Check Digits of the receiving bank account"
   ]
  },
  {
   "cell_type": "code",
   "execution_count": 19,
   "id": "bfd08343",
   "metadata": {},
   "outputs": [],
   "source": [
    "df = pd.merge(df1, df2, on='Bank', how='inner')"
   ]
  },
  {
   "cell_type": "markdown",
   "id": "9605fa85",
   "metadata": {},
   "source": [
    "<br>\n",
    "Add a field for the Country Code\n",
    "\n",
    "- Hint: all these transactions take place in the UK so the Country Code should be GB"
   ]
  },
  {
   "cell_type": "code",
   "execution_count": 21,
   "id": "e94d3aaa",
   "metadata": {},
   "outputs": [],
   "source": [
    "df ['Country Code'] = 'GB'"
   ]
  },
  {
   "cell_type": "markdown",
   "id": "ba54bbc8",
   "metadata": {},
   "source": [
    "<br>\n",
    "Create the IBAN as above\n",
    "\n",
    "- Hint: watch out for trying to combine sting fields with numeric fields - check data types"
   ]
  },
  {
   "cell_type": "code",
   "execution_count": 31,
   "id": "26f9ab48",
   "metadata": {},
   "outputs": [
    {
     "data": {
      "text/plain": [
       "Transaction ID     int64\n",
       "Account Number     int64\n",
       "Sort Code         object\n",
       "Bank              object\n",
       "SWIFT code        object\n",
       "Check Digits      object\n",
       "Country Code      object\n",
       "IBAN              object\n",
       "dtype: object"
      ]
     },
     "execution_count": 31,
     "metadata": {},
     "output_type": "execute_result"
    }
   ],
   "source": [
    "#Checking data types\n",
    "df.dtypes"
   ]
  },
  {
   "cell_type": "code",
   "execution_count": 30,
   "id": "76cc0089",
   "metadata": {},
   "outputs": [],
   "source": [
    "#Concatenating Fields to create IBAN\n",
    "df ['IBAN'] = (\n",
    "                df['Country Code'] + \n",
    "                df ['Check Digits'] + \n",
    "                df ['SWIFT code'] + \n",
    "                df ['Sort Code'] + \n",
    "                df ['Account Number'].astype(str) \n",
    "               )"
   ]
  },
  {
   "cell_type": "markdown",
   "id": "32de4072",
   "metadata": {},
   "source": [
    "<br>\n",
    "Remove unnecessary fields"
   ]
  },
  {
   "cell_type": "code",
   "execution_count": 33,
   "id": "64104ef4",
   "metadata": {},
   "outputs": [],
   "source": [
    "Required_Columns = ['Transaction ID', 'IBAN']\n",
    "df = df[Required_Columns]"
   ]
  },
  {
   "cell_type": "markdown",
   "id": "86563868",
   "metadata": {},
   "source": [
    "<br>\n",
    "Output the data"
   ]
  },
  {
   "cell_type": "code",
   "execution_count": 35,
   "id": "da01779e",
   "metadata": {},
   "outputs": [],
   "source": [
    "df.to_csv('PD2023Week2_Output.csv', index=False)"
   ]
  },
  {
   "cell_type": "code",
   "execution_count": 36,
   "id": "6a28276b",
   "metadata": {},
   "outputs": [
    {
     "data": {
      "text/html": [
       "<div>\n",
       "<style scoped>\n",
       "    .dataframe tbody tr th:only-of-type {\n",
       "        vertical-align: middle;\n",
       "    }\n",
       "\n",
       "    .dataframe tbody tr th {\n",
       "        vertical-align: top;\n",
       "    }\n",
       "\n",
       "    .dataframe thead th {\n",
       "        text-align: right;\n",
       "    }\n",
       "</style>\n",
       "<table border=\"1\" class=\"dataframe\">\n",
       "  <thead>\n",
       "    <tr style=\"text-align: right;\">\n",
       "      <th></th>\n",
       "      <th>Transaction ID</th>\n",
       "      <th>IBAN</th>\n",
       "    </tr>\n",
       "  </thead>\n",
       "  <tbody>\n",
       "    <tr>\n",
       "      <th>0</th>\n",
       "      <td>3888</td>\n",
       "      <td>GB12DSBX95988262230725</td>\n",
       "    </tr>\n",
       "    <tr>\n",
       "      <th>1</th>\n",
       "      <td>7086</td>\n",
       "      <td>GB12DSBX59774456630552</td>\n",
       "    </tr>\n",
       "    <tr>\n",
       "      <th>2</th>\n",
       "      <td>1314</td>\n",
       "      <td>GB12DSBX61857971210735</td>\n",
       "    </tr>\n",
       "    <tr>\n",
       "      <th>3</th>\n",
       "      <td>1493</td>\n",
       "      <td>GB12DSBX86544212193988</td>\n",
       "    </tr>\n",
       "    <tr>\n",
       "      <th>4</th>\n",
       "      <td>1952</td>\n",
       "      <td>GB12DSBX21275453786334</td>\n",
       "    </tr>\n",
       "    <tr>\n",
       "      <th>...</th>\n",
       "      <td>...</td>\n",
       "      <td>...</td>\n",
       "    </tr>\n",
       "    <tr>\n",
       "      <th>95</th>\n",
       "      <td>6054</td>\n",
       "      <td>GBC1LOYD96885447199472</td>\n",
       "    </tr>\n",
       "    <tr>\n",
       "      <th>96</th>\n",
       "      <td>5773</td>\n",
       "      <td>GBC1LOYD43861382021377</td>\n",
       "    </tr>\n",
       "    <tr>\n",
       "      <th>97</th>\n",
       "      <td>7485</td>\n",
       "      <td>GBC1LOYD63461763007765</td>\n",
       "    </tr>\n",
       "    <tr>\n",
       "      <th>98</th>\n",
       "      <td>8813</td>\n",
       "      <td>GBC1LOYD63589183475180</td>\n",
       "    </tr>\n",
       "    <tr>\n",
       "      <th>99</th>\n",
       "      <td>2021</td>\n",
       "      <td>GBC1LOYD59175172261023</td>\n",
       "    </tr>\n",
       "  </tbody>\n",
       "</table>\n",
       "<p>100 rows × 2 columns</p>\n",
       "</div>"
      ],
      "text/plain": [
       "    Transaction ID                    IBAN\n",
       "0             3888  GB12DSBX95988262230725\n",
       "1             7086  GB12DSBX59774456630552\n",
       "2             1314  GB12DSBX61857971210735\n",
       "3             1493  GB12DSBX86544212193988\n",
       "4             1952  GB12DSBX21275453786334\n",
       "..             ...                     ...\n",
       "95            6054  GBC1LOYD96885447199472\n",
       "96            5773  GBC1LOYD43861382021377\n",
       "97            7485  GBC1LOYD63461763007765\n",
       "98            8813  GBC1LOYD63589183475180\n",
       "99            2021  GBC1LOYD59175172261023\n",
       "\n",
       "[100 rows x 2 columns]"
      ]
     },
     "execution_count": 36,
     "metadata": {},
     "output_type": "execute_result"
    }
   ],
   "source": [
    "#Verifying Output\n",
    "Output = pd.read_csv('PD2023Week2_Output.csv')\n",
    "Output"
   ]
  }
 ],
 "metadata": {
  "kernelspec": {
   "display_name": "Python 3 (ipykernel)",
   "language": "python",
   "name": "python3"
  },
  "language_info": {
   "codemirror_mode": {
    "name": "ipython",
    "version": 3
   },
   "file_extension": ".py",
   "mimetype": "text/x-python",
   "name": "python",
   "nbconvert_exporter": "python",
   "pygments_lexer": "ipython3",
   "version": "3.11.5"
  }
 },
 "nbformat": 4,
 "nbformat_minor": 5
}
