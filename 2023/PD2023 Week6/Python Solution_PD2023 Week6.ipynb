{
 "cells": [
  {
   "cell_type": "markdown",
   "id": "aa0464b6",
   "metadata": {},
   "source": [
    "### Preppin' Data Challenge: 2023 Week6 - DSB Customer Ratings\n",
    "\n",
    "<br>\n",
    "Input the data"
   ]
  },
  {
   "cell_type": "code",
   "execution_count": 519,
   "id": "19352dfc",
   "metadata": {},
   "outputs": [],
   "source": [
    "import pandas as pd\n",
    "import numpy as np\n",
    "import re  #importing regex\n",
    "\n",
    "df = pd.read_csv('PD2023_WK06_DSB_CUSTOMER_SURVEY.csv')"
   ]
  },
  {
   "cell_type": "markdown",
   "id": "69e2b1a9",
   "metadata": {},
   "source": [
    "<br>\n",
    "Reshape the data so we have 5 rows for each customer, with responses for the Mobile App and Online Interface being in separate fields on the same row.\n",
    "\n",
    "- Clean the question categories so they don't have the platform in from of them e.g. Mobile App - Ease of Use should be simply Ease of Use"
   ]
  },
  {
   "cell_type": "code",
   "execution_count": 520,
   "id": "42a40534",
   "metadata": {},
   "outputs": [],
   "source": [
    "#unpivoting the dataframe\n",
    "df = pd.melt(df, id_vars='CUSTOMER_ID', var_name='Response', value_name='Rating')"
   ]
  },
  {
   "cell_type": "code",
   "execution_count": 521,
   "id": "d0d1cf1a",
   "metadata": {},
   "outputs": [],
   "source": [
    "#Extracting Interface Value from Response column using regex\n",
    "df['Interface'] = df['Response'].str.extract(r'(.+)___')\n",
    "\n",
    "#Extracting Reponse Value from Response column using regex\n",
    "df['Response'] = df['Response'].str.extract(r'.+___(.+)')"
   ]
  },
  {
   "cell_type": "code",
   "execution_count": 522,
   "id": "ef9589d5",
   "metadata": {},
   "outputs": [],
   "source": [
    "#Pivoting 'Interface' row value to column\n",
    "#reset_index() is used to  push the grouped-on values of a columns back into each records in the result\n",
    "\n",
    "df = df.pivot_table(index=['CUSTOMER_ID', 'Response'], columns = 'Interface', values = 'Rating').reset_index()"
   ]
  },
  {
   "cell_type": "markdown",
   "id": "78ea79e9",
   "metadata": {},
   "source": [
    "<br>\n",
    "Exclude the Overall Ratings, these were incorrectly calculated by the system"
   ]
  },
  {
   "cell_type": "code",
   "execution_count": 523,
   "id": "2475618e",
   "metadata": {},
   "outputs": [],
   "source": [
    "df = df.loc[df['Response'] != 'OVERALL_RATING']"
   ]
  },
  {
   "cell_type": "markdown",
   "id": "869d0b4d",
   "metadata": {},
   "source": [
    "<br>\n",
    "Calculate the Average Ratings for each platform for each customer "
   ]
  },
  {
   "cell_type": "code",
   "execution_count": 524,
   "id": "6a9856cc",
   "metadata": {},
   "outputs": [],
   "source": [
    "df = df.groupby(['CUSTOMER_ID'], as_index=False).agg({'MOBILE_APP':'mean', 'ONLINE_INTERFACE':'mean'})"
   ]
  },
  {
   "cell_type": "markdown",
   "id": "2d81024a",
   "metadata": {},
   "source": [
    "<br>\n",
    "Calculate the difference in Average Rating between Mobile App and Online Interface for each customer"
   ]
  },
  {
   "cell_type": "code",
   "execution_count": 525,
   "id": "5ef190f8",
   "metadata": {},
   "outputs": [],
   "source": [
    "df['Difference Average Rating'] = df['MOBILE_APP'] - df['ONLINE_INTERFACE']"
   ]
  },
  {
   "cell_type": "markdown",
   "id": "f113d4b0",
   "metadata": {},
   "source": [
    "<br>\n",
    "Catergorise customers as being:\n",
    "\n",
    "- Mobile App Superfans if the difference is greater than or equal to 2 in the Mobile App's favour\n",
    "- Mobile App Fans if difference >= 1\n",
    "- Online Interface Fan\n",
    "- Online Interface Superfan\n",
    "- Neutral if difference is between 0 and 1"
   ]
  },
  {
   "cell_type": "code",
   "execution_count": 526,
   "id": "43bc5d8a",
   "metadata": {},
   "outputs": [],
   "source": [
    "df['Preference'] = df['Difference Average Rating'].apply(\n",
    "                                                        lambda x: 'Mobile Superfans' if x >= 2 \n",
    "                                                        else 'Mobile Fans' if x >= 1 and x < 2 \n",
    "                                                        else 'Online Fans' if x <=-1 and x>-2\n",
    "                                                        else 'Online Superfan' if x <= -2\n",
    "                                                        else 'Neutral')\n"
   ]
  },
  {
   "cell_type": "markdown",
   "id": "1dcb7f80",
   "metadata": {},
   "source": [
    "<br>\n",
    "Calculate the Percent of Total customers in each category, rounded to 1 decimal place"
   ]
  },
  {
   "cell_type": "code",
   "execution_count": 527,
   "id": "03934bf9",
   "metadata": {},
   "outputs": [],
   "source": [
    "# Numbers of customers by each preference\n",
    "df = df.groupby('Preference', as_index=False).count()\n",
    "\n",
    "# Total of all customers in each record\n",
    "df['Total'] = df['MOBILE_APP'].sum()\n",
    "\n",
    "#Calculating % of total customers in each category\n",
    "df['% of Total'] = df['MOBILE_APP']/df['Total']*100\n",
    "\n",
    "#Round to 1 decimal\n",
    "df['% of Total'] = df['% of Total'].round(1)"
   ]
  },
  {
   "cell_type": "code",
   "execution_count": 528,
   "id": "d403a35e",
   "metadata": {},
   "outputs": [],
   "source": [
    "column_order = ['Preference', '% of Total']\n",
    "df = df[column_order]\n",
    "df = df.reset_index()"
   ]
  },
  {
   "cell_type": "markdown",
   "id": "f0195b64",
   "metadata": {},
   "source": [
    "<br>\n",
    "Output the data"
   ]
  },
  {
   "cell_type": "code",
   "execution_count": 529,
   "id": "20a8bfe0",
   "metadata": {},
   "outputs": [],
   "source": [
    "df.to_csv(\"PD2023_W6_Output.csv\", index=False)"
   ]
  },
  {
   "cell_type": "code",
   "execution_count": 530,
   "id": "660d28b3",
   "metadata": {},
   "outputs": [
    {
     "data": {
      "text/html": [
       "<div>\n",
       "<style scoped>\n",
       "    .dataframe tbody tr th:only-of-type {\n",
       "        vertical-align: middle;\n",
       "    }\n",
       "\n",
       "    .dataframe tbody tr th {\n",
       "        vertical-align: top;\n",
       "    }\n",
       "\n",
       "    .dataframe thead th {\n",
       "        text-align: right;\n",
       "    }\n",
       "</style>\n",
       "<table border=\"1\" class=\"dataframe\">\n",
       "  <thead>\n",
       "    <tr style=\"text-align: right;\">\n",
       "      <th></th>\n",
       "      <th>index</th>\n",
       "      <th>Preference</th>\n",
       "      <th>% of Total</th>\n",
       "    </tr>\n",
       "  </thead>\n",
       "  <tbody>\n",
       "    <tr>\n",
       "      <th>0</th>\n",
       "      <td>0</td>\n",
       "      <td>Mobile Fans</td>\n",
       "      <td>16.4</td>\n",
       "    </tr>\n",
       "    <tr>\n",
       "      <th>1</th>\n",
       "      <td>1</td>\n",
       "      <td>Mobile Superfans</td>\n",
       "      <td>2.6</td>\n",
       "    </tr>\n",
       "    <tr>\n",
       "      <th>2</th>\n",
       "      <td>2</td>\n",
       "      <td>Neutral</td>\n",
       "      <td>63.7</td>\n",
       "    </tr>\n",
       "    <tr>\n",
       "      <th>3</th>\n",
       "      <td>3</td>\n",
       "      <td>Online Fans</td>\n",
       "      <td>14.7</td>\n",
       "    </tr>\n",
       "    <tr>\n",
       "      <th>4</th>\n",
       "      <td>4</td>\n",
       "      <td>Online Superfan</td>\n",
       "      <td>2.6</td>\n",
       "    </tr>\n",
       "  </tbody>\n",
       "</table>\n",
       "</div>"
      ],
      "text/plain": [
       "   index        Preference  % of Total\n",
       "0      0       Mobile Fans        16.4\n",
       "1      1  Mobile Superfans         2.6\n",
       "2      2           Neutral        63.7\n",
       "3      3       Online Fans        14.7\n",
       "4      4   Online Superfan         2.6"
      ]
     },
     "execution_count": 530,
     "metadata": {},
     "output_type": "execute_result"
    }
   ],
   "source": [
    "#Verifying the output\n",
    "Output = pd.read_csv(\"PD2023_W6_Output.csv\")\n",
    "Output"
   ]
  }
 ],
 "metadata": {
  "kernelspec": {
   "display_name": "Python 3 (ipykernel)",
   "language": "python",
   "name": "python3"
  },
  "language_info": {
   "codemirror_mode": {
    "name": "ipython",
    "version": 3
   },
   "file_extension": ".py",
   "mimetype": "text/x-python",
   "name": "python",
   "nbconvert_exporter": "python",
   "pygments_lexer": "ipython3",
   "version": "3.11.5"
  }
 },
 "nbformat": 4,
 "nbformat_minor": 5
}
