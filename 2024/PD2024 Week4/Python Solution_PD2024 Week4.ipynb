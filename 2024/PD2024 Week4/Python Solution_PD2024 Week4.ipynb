{
 "cells": [
  {
   "cell_type": "markdown",
   "id": "79dd3569",
   "metadata": {},
   "source": [
    "### Preppin' Data Challenge 2024: Week 4 - Unpopular Seats\n",
    "Input the data"
   ]
  },
  {
   "cell_type": "code",
   "execution_count": 70,
   "id": "feda0d70",
   "metadata": {},
   "outputs": [],
   "source": [
    "import pandas as pd\n",
    "import numpy as np\n",
    "\n",
    "df1 = pd.read_csv('PD2024_WK4_INPUT_FLOW_CARD.csv')\n",
    "df2 = pd.read_csv('PD2024_WK4_INPUT_NON_FLOW_CARD.csv')\n",
    "df3 = pd.read_csv('PD2024_WK4_INPUT_SEAT_PLAN.csv')"
   ]
  },
  {
   "cell_type": "markdown",
   "id": "a192d54b",
   "metadata": {},
   "source": [
    "<br>\n",
    "- Union the Flow Card and Non-Flow card data sets together.<br>\n",
    "- Create a data field to show whether the seat was booked by someone with the Flow Card or not\n",
    "    - Call this field 'Flow Card?'"
   ]
  },
  {
   "cell_type": "code",
   "execution_count": 71,
   "id": "5d716fa4",
   "metadata": {},
   "outputs": [],
   "source": [
    "df1['Flow Card?'] = 'Yes'\n",
    "df2['Flow Card?'] = 'No'"
   ]
  },
  {
   "cell_type": "code",
   "execution_count": 72,
   "id": "0b80913a",
   "metadata": {},
   "outputs": [],
   "source": [
    "df = pd.concat([df1, df2],ignore_index=True)"
   ]
  },
  {
   "cell_type": "markdown",
   "id": "b2f70813",
   "metadata": {},
   "source": [
    "<br>\n",
    "Aggregate the Seat Bookings to count how many bookings there are for:\n",
    "\n",
    "    - Each Seat\n",
    "    - In each Row\n",
    "    - In each Class\n",
    "    - For Flow and Non-Flow Card holders"
   ]
  },
  {
   "cell_type": "code",
   "execution_count": 73,
   "id": "76dca22f",
   "metadata": {},
   "outputs": [],
   "source": [
    "df = df.groupby(['Class', 'Row_','Seat', 'Flow Card?'], as_index=False).agg({'CustomerID':'count'})"
   ]
  },
  {
   "cell_type": "markdown",
   "id": "5126bb25",
   "metadata": {},
   "source": [
    "<br>\n",
    "Join on the Seating Plan data to ensure you have a data set for every seat on the plane, even if it hasn't been book\n",
    "\n",
    "- Only return the records for the seats that haven't been booked"
   ]
  },
  {
   "cell_type": "code",
   "execution_count": 74,
   "id": "ad26bc34",
   "metadata": {},
   "outputs": [],
   "source": [
    "#Renaming Row to Row_ for df3 for join purpose in the next step\n",
    "df3.rename(columns={'Row': 'Row_'}, inplace=True)\n",
    "\n",
    "#Renaming CustomerID to Bookings in df as we now it is number of bookings\n",
    "df.rename(columns={'CustomerID': 'Bookings'}, inplace=True)"
   ]
  },
  {
   "cell_type": "code",
   "execution_count": 75,
   "id": "8d17a6da",
   "metadata": {},
   "outputs": [],
   "source": [
    "df = pd.merge(df,df3, on=['Class', 'Row_', 'Seat'], how='right')"
   ]
  },
  {
   "cell_type": "code",
   "execution_count": 76,
   "id": "e32024a6",
   "metadata": {},
   "outputs": [],
   "source": [
    "df = df[df['Bookings'].isnull()]  # Filtering to Bookings = Null"
   ]
  },
  {
   "cell_type": "markdown",
   "id": "94f73226",
   "metadata": {},
   "source": [
    "<br>\n",
    "Output the data set showing what seat, rows and class have NOT been booked"
   ]
  },
  {
   "cell_type": "code",
   "execution_count": 77,
   "id": "93a3b9d5",
   "metadata": {},
   "outputs": [],
   "source": [
    "df = df[['Class', 'Seat', 'Row_']] # Selecting only required columns"
   ]
  },
  {
   "cell_type": "code",
   "execution_count": 78,
   "id": "aa51c381",
   "metadata": {},
   "outputs": [],
   "source": [
    "df.to_csv('PD2024W4_OUTPUT.csv', index=False)"
   ]
  },
  {
   "cell_type": "code",
   "execution_count": 79,
   "id": "1d50b3a0",
   "metadata": {},
   "outputs": [
    {
     "data": {
      "text/html": [
       "<div>\n",
       "<style scoped>\n",
       "    .dataframe tbody tr th:only-of-type {\n",
       "        vertical-align: middle;\n",
       "    }\n",
       "\n",
       "    .dataframe tbody tr th {\n",
       "        vertical-align: top;\n",
       "    }\n",
       "\n",
       "    .dataframe thead th {\n",
       "        text-align: right;\n",
       "    }\n",
       "</style>\n",
       "<table border=\"1\" class=\"dataframe\">\n",
       "  <thead>\n",
       "    <tr style=\"text-align: right;\">\n",
       "      <th></th>\n",
       "      <th>Class</th>\n",
       "      <th>Seat</th>\n",
       "      <th>Row_</th>\n",
       "    </tr>\n",
       "  </thead>\n",
       "  <tbody>\n",
       "    <tr>\n",
       "      <th>0</th>\n",
       "      <td>E</td>\n",
       "      <td>5</td>\n",
       "      <td>28</td>\n",
       "    </tr>\n",
       "    <tr>\n",
       "      <th>1</th>\n",
       "      <td>E</td>\n",
       "      <td>6</td>\n",
       "      <td>32</td>\n",
       "    </tr>\n",
       "    <tr>\n",
       "      <th>2</th>\n",
       "      <td>E</td>\n",
       "      <td>5</td>\n",
       "      <td>36</td>\n",
       "    </tr>\n",
       "    <tr>\n",
       "      <th>3</th>\n",
       "      <td>E</td>\n",
       "      <td>6</td>\n",
       "      <td>37</td>\n",
       "    </tr>\n",
       "    <tr>\n",
       "      <th>4</th>\n",
       "      <td>E</td>\n",
       "      <td>5</td>\n",
       "      <td>40</td>\n",
       "    </tr>\n",
       "    <tr>\n",
       "      <th>5</th>\n",
       "      <td>E</td>\n",
       "      <td>6</td>\n",
       "      <td>40</td>\n",
       "    </tr>\n",
       "    <tr>\n",
       "      <th>6</th>\n",
       "      <td>E</td>\n",
       "      <td>5</td>\n",
       "      <td>41</td>\n",
       "    </tr>\n",
       "  </tbody>\n",
       "</table>\n",
       "</div>"
      ],
      "text/plain": [
       "  Class  Seat  Row_\n",
       "0     E     5    28\n",
       "1     E     6    32\n",
       "2     E     5    36\n",
       "3     E     6    37\n",
       "4     E     5    40\n",
       "5     E     6    40\n",
       "6     E     5    41"
      ]
     },
     "execution_count": 79,
     "metadata": {},
     "output_type": "execute_result"
    }
   ],
   "source": [
    "#verifying the output\n",
    "Output = pd.read_csv('PD2024W4_OUTPUT.csv')\n",
    "Output"
   ]
  }
 ],
 "metadata": {
  "kernelspec": {
   "display_name": "Python 3 (ipykernel)",
   "language": "python",
   "name": "python3"
  },
  "language_info": {
   "codemirror_mode": {
    "name": "ipython",
    "version": 3
   },
   "file_extension": ".py",
   "mimetype": "text/x-python",
   "name": "python",
   "nbconvert_exporter": "python",
   "pygments_lexer": "ipython3",
   "version": "3.11.5"
  }
 },
 "nbformat": 4,
 "nbformat_minor": 5
}
