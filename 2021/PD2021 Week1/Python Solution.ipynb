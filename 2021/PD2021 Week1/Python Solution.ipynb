{
 "cells": [
  {
   "cell_type": "markdown",
   "id": "5eb5d9f6",
   "metadata": {},
   "source": [
    "### Preppin Data Challenge 2021: Week 1\n",
    "Connect and load the csv file\n"
   ]
  },
  {
   "cell_type": "code",
   "execution_count": 52,
   "id": "ec4c8b65",
   "metadata": {},
   "outputs": [],
   "source": [
    "import pandas as pd\n",
    "import numpy as np"
   ]
  },
  {
   "cell_type": "code",
   "execution_count": 53,
   "id": "f5531980",
   "metadata": {},
   "outputs": [],
   "source": [
    "file = 'PD2021_WK01.csv'\n",
    "df = pd.read_csv(file)\n"
   ]
  },
  {
   "cell_type": "markdown",
   "id": "623ccd5a",
   "metadata": {},
   "source": [
    "<br>\n",
    "Split the 'Store-Bike' field into 'Store' and 'Bike' "
   ]
  },
  {
   "cell_type": "code",
   "execution_count": 54,
   "id": "2005ceeb",
   "metadata": {},
   "outputs": [],
   "source": [
    "df[['Store', 'Bike']] = df['Store - Bike'].str.split('-', expand = True)\n",
    "df = df.drop('Store - Bike', axis=1)"
   ]
  },
  {
   "cell_type": "markdown",
   "id": "d5163dde",
   "metadata": {},
   "source": [
    "<br>\n",
    "Clean up the 'Bike' field to leave just three values in the 'Bike' field (Mountain, Gravel, Road)"
   ]
  },
  {
   "cell_type": "code",
   "execution_count": 55,
   "id": "903cb5a9",
   "metadata": {},
   "outputs": [],
   "source": [
    "df['Bike'] = np.where(df['Bike'].str.contains('R'), 'Road', df['Bike'] )\n",
    "df['Bike'] = np.where(df['Bike'].str.contains('M'), 'Mountain', df['Bike'] )\n",
    "df['Bike'] = np.where(df['Bike'].str.contains('G'), 'Gravel', df['Bike'] )"
   ]
  },
  {
   "cell_type": "markdown",
   "id": "68017297",
   "metadata": {},
   "source": [
    "<br>\n",
    "Create two different cuts of the date field: 'quarter' and 'day of month'"
   ]
  },
  {
   "cell_type": "code",
   "execution_count": 56,
   "id": "f7ff1660",
   "metadata": {},
   "outputs": [],
   "source": [
    "df['Date'] = pd.to_datetime(df['Date'], format = '%d/%m/%Y')\n",
    "df['Quarter'] = df['Date'].dt.quarter\n",
    "df['Day of Month'] = df['Date'].dt.day"
   ]
  },
  {
   "cell_type": "markdown",
   "id": "58e762d1",
   "metadata": {},
   "source": [
    "<br>\n",
    "Remove the first 10 orders as they are test values"
   ]
  },
  {
   "cell_type": "code",
   "execution_count": 58,
   "id": "7bef9fca",
   "metadata": {},
   "outputs": [
    {
     "data": {
      "text/html": [
       "<div>\n",
       "<style scoped>\n",
       "    .dataframe tbody tr th:only-of-type {\n",
       "        vertical-align: middle;\n",
       "    }\n",
       "\n",
       "    .dataframe tbody tr th {\n",
       "        vertical-align: top;\n",
       "    }\n",
       "\n",
       "    .dataframe thead th {\n",
       "        text-align: right;\n",
       "    }\n",
       "</style>\n",
       "<table border=\"1\" class=\"dataframe\">\n",
       "  <thead>\n",
       "    <tr style=\"text-align: right;\">\n",
       "      <th></th>\n",
       "      <th>Quarter</th>\n",
       "      <th>Store</th>\n",
       "      <th>Bike</th>\n",
       "      <th>Order ID</th>\n",
       "      <th>Customer Age</th>\n",
       "      <th>Bike Value</th>\n",
       "      <th>Existing Customer?</th>\n",
       "      <th>Day of Month</th>\n",
       "    </tr>\n",
       "  </thead>\n",
       "  <tbody>\n",
       "    <tr>\n",
       "      <th>20</th>\n",
       "      <td>2</td>\n",
       "      <td>London</td>\n",
       "      <td>Road</td>\n",
       "      <td>21</td>\n",
       "      <td>36</td>\n",
       "      <td>786</td>\n",
       "      <td>Yes</td>\n",
       "      <td>9</td>\n",
       "    </tr>\n",
       "    <tr>\n",
       "      <th>21</th>\n",
       "      <td>1</td>\n",
       "      <td>London</td>\n",
       "      <td>Road</td>\n",
       "      <td>22</td>\n",
       "      <td>51</td>\n",
       "      <td>1596</td>\n",
       "      <td>No</td>\n",
       "      <td>2</td>\n",
       "    </tr>\n",
       "    <tr>\n",
       "      <th>22</th>\n",
       "      <td>1</td>\n",
       "      <td>London</td>\n",
       "      <td>Road</td>\n",
       "      <td>23</td>\n",
       "      <td>24</td>\n",
       "      <td>745</td>\n",
       "      <td>No</td>\n",
       "      <td>20</td>\n",
       "    </tr>\n",
       "    <tr>\n",
       "      <th>23</th>\n",
       "      <td>2</td>\n",
       "      <td>London</td>\n",
       "      <td>Road</td>\n",
       "      <td>24</td>\n",
       "      <td>50</td>\n",
       "      <td>1937</td>\n",
       "      <td>No</td>\n",
       "      <td>13</td>\n",
       "    </tr>\n",
       "    <tr>\n",
       "      <th>24</th>\n",
       "      <td>3</td>\n",
       "      <td>Leeds</td>\n",
       "      <td>Mountain</td>\n",
       "      <td>25</td>\n",
       "      <td>35</td>\n",
       "      <td>1958</td>\n",
       "      <td>No</td>\n",
       "      <td>5</td>\n",
       "    </tr>\n",
       "    <tr>\n",
       "      <th>...</th>\n",
       "      <td>...</td>\n",
       "      <td>...</td>\n",
       "      <td>...</td>\n",
       "      <td>...</td>\n",
       "      <td>...</td>\n",
       "      <td>...</td>\n",
       "      <td>...</td>\n",
       "      <td>...</td>\n",
       "    </tr>\n",
       "    <tr>\n",
       "      <th>995</th>\n",
       "      <td>3</td>\n",
       "      <td>London</td>\n",
       "      <td>Mountain</td>\n",
       "      <td>996</td>\n",
       "      <td>42</td>\n",
       "      <td>3460</td>\n",
       "      <td>No</td>\n",
       "      <td>3</td>\n",
       "    </tr>\n",
       "    <tr>\n",
       "      <th>996</th>\n",
       "      <td>1</td>\n",
       "      <td>London</td>\n",
       "      <td>Mountain</td>\n",
       "      <td>997</td>\n",
       "      <td>48</td>\n",
       "      <td>3409</td>\n",
       "      <td>No</td>\n",
       "      <td>17</td>\n",
       "    </tr>\n",
       "    <tr>\n",
       "      <th>997</th>\n",
       "      <td>1</td>\n",
       "      <td>London</td>\n",
       "      <td>Mountain</td>\n",
       "      <td>998</td>\n",
       "      <td>81</td>\n",
       "      <td>2534</td>\n",
       "      <td>No</td>\n",
       "      <td>26</td>\n",
       "    </tr>\n",
       "    <tr>\n",
       "      <th>998</th>\n",
       "      <td>2</td>\n",
       "      <td>London</td>\n",
       "      <td>Gravel</td>\n",
       "      <td>999</td>\n",
       "      <td>37</td>\n",
       "      <td>4312</td>\n",
       "      <td>Yes</td>\n",
       "      <td>25</td>\n",
       "    </tr>\n",
       "    <tr>\n",
       "      <th>999</th>\n",
       "      <td>1</td>\n",
       "      <td>Leeds</td>\n",
       "      <td>Gravel</td>\n",
       "      <td>1000</td>\n",
       "      <td>35</td>\n",
       "      <td>1200</td>\n",
       "      <td>Yes</td>\n",
       "      <td>18</td>\n",
       "    </tr>\n",
       "  </tbody>\n",
       "</table>\n",
       "<p>980 rows × 8 columns</p>\n",
       "</div>"
      ],
      "text/plain": [
       "     Quarter    Store      Bike  Order ID  Customer Age  Bike Value  \\\n",
       "20         2  London       Road        21            36         786   \n",
       "21         1  London       Road        22            51        1596   \n",
       "22         1  London       Road        23            24         745   \n",
       "23         2  London       Road        24            50        1937   \n",
       "24         3   Leeds   Mountain        25            35        1958   \n",
       "..       ...      ...       ...       ...           ...         ...   \n",
       "995        3  London   Mountain       996            42        3460   \n",
       "996        1  London   Mountain       997            48        3409   \n",
       "997        1  London   Mountain       998            81        2534   \n",
       "998        2  London     Gravel       999            37        4312   \n",
       "999        1   Leeds     Gravel      1000            35        1200   \n",
       "\n",
       "    Existing Customer?  Day of Month  \n",
       "20                 Yes             9  \n",
       "21                  No             2  \n",
       "22                  No            20  \n",
       "23                  No            13  \n",
       "24                  No             5  \n",
       "..                 ...           ...  \n",
       "995                 No             3  \n",
       "996                 No            17  \n",
       "997                 No            26  \n",
       "998                Yes            25  \n",
       "999                Yes            18  \n",
       "\n",
       "[980 rows x 8 columns]"
      ]
     },
     "execution_count": 58,
     "metadata": {},
     "output_type": "execute_result"
    }
   ],
   "source": [
    "df.drop(df.index[:10], inplace=True)\n",
    "df = df.drop('Date', axis=1)\n",
    "column_order = ['Quarter', 'Store', 'Bike', 'Order ID', 'Customer Age', 'Bike Value', 'Existing Customer?', 'Day of Month']\n",
    "df = df[column_order]\n",
    "df"
   ]
  }
 ],
 "metadata": {
  "kernelspec": {
   "display_name": "Python 3 (ipykernel)",
   "language": "python",
   "name": "python3"
  },
  "language_info": {
   "codemirror_mode": {
    "name": "ipython",
    "version": 3
   },
   "file_extension": ".py",
   "mimetype": "text/x-python",
   "name": "python",
   "nbconvert_exporter": "python",
   "pygments_lexer": "ipython3",
   "version": "3.11.5"
  }
 },
 "nbformat": 4,
 "nbformat_minor": 5
}
